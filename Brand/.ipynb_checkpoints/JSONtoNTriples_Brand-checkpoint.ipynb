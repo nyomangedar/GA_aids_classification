{
 "cells": [
  {
   "cell_type": "code",
   "execution_count": 1,
   "id": "de1ced0b",
   "metadata": {
    "scrolled": true
   },
   "outputs": [],
   "source": [
    "import json\n",
    "from rdflib import Graph, URIRef\n",
    "from csv import reader\n",
    "from tqdm import tqdm\n",
    "import pandas as pd"
   ]
  },
  {
   "cell_type": "code",
   "execution_count": 2,
   "id": "b00cdc13",
   "metadata": {},
   "outputs": [
    {
     "data": {
      "text/plain": [
       "{'encoding': 'ascii', 'confidence': 1.0, 'language': ''}"
      ]
     },
     "execution_count": 2,
     "metadata": {},
     "output_type": "execute_result"
    }
   ],
   "source": [
    "import chardet\n",
    "with open(r'query_brand.json','rb') as rawdata:\n",
    "    result = chardet.detect(rawdata.read(1000000))\n",
    "result"
   ]
  },
  {
   "cell_type": "code",
   "execution_count": 3,
   "id": "d1f04c4b",
   "metadata": {},
   "outputs": [],
   "source": [
    "f = open(r'query_brand.json',encoding='utf8')"
   ]
  },
  {
   "cell_type": "code",
   "execution_count": 4,
   "id": "e8006e0f",
   "metadata": {},
   "outputs": [],
   "source": [
    "data = json.load(f)"
   ]
  },
  {
   "cell_type": "code",
   "execution_count": 5,
   "id": "058b1205",
   "metadata": {},
   "outputs": [
    {
     "data": {
      "text/plain": [
       "{'s': 'http://www.wikidata.org/entity/Q770257',\n",
       " 'p': 'http://www.wikidata.org/prop/direct/P31',\n",
       " 'o': 'http://www.wikidata.org/entity/Q431289'}"
      ]
     },
     "execution_count": 5,
     "metadata": {},
     "output_type": "execute_result"
    }
   ],
   "source": [
    "data[0]"
   ]
  },
  {
   "cell_type": "code",
   "execution_count": 6,
   "id": "03e575c1",
   "metadata": {},
   "outputs": [
    {
     "data": {
      "text/plain": [
       "'P31'"
      ]
     },
     "execution_count": 6,
     "metadata": {},
     "output_type": "execute_result"
    }
   ],
   "source": [
    "data[0]['p'].split('/')[-1]"
   ]
  },
  {
   "cell_type": "code",
   "execution_count": 7,
   "id": "d5a786f3",
   "metadata": {},
   "outputs": [
    {
     "data": {
      "text/plain": [
       "'http://www.wikidata.org/entity/Q431289'"
      ]
     },
     "execution_count": 7,
     "metadata": {},
     "output_type": "execute_result"
    }
   ],
   "source": [
    "data[0]['o']"
   ]
  },
  {
   "cell_type": "code",
   "execution_count": 8,
   "id": "ae25bcd4",
   "metadata": {},
   "outputs": [
    {
     "data": {
      "text/plain": [
       "'<http://www.wikidata.org/entity/Q770257> <http://www.wikidata.org/prop/direct/P31> <http://www.wikidata.org/entity/Q431289>'"
      ]
     },
     "execution_count": 8,
     "metadata": {},
     "output_type": "execute_result"
    }
   ],
   "source": [
    "'<'+data[0]['s']+'> <' + data[0]['p'] + '> <' + data[0]['o'] + '>'"
   ]
  },
  {
   "cell_type": "code",
   "execution_count": 9,
   "id": "0ba6db2d",
   "metadata": {},
   "outputs": [
    {
     "name": "stdout",
     "output_type": "stream",
     "text": [
      "http://www.wikidata.org/entity/Q770257\n",
      "http://www.wikidata.org/prop/direct/P31\n",
      "http://www.wikidata.org/entity/Q431289\n"
     ]
    }
   ],
   "source": [
    "for i, j in data[0].items():\n",
    "    print(j)"
   ]
  },
  {
   "cell_type": "code",
   "execution_count": 10,
   "id": "ed6f8dc7",
   "metadata": {},
   "outputs": [],
   "source": [
    "f = open(\"query_brand.nt\", \"w\")\n",
    "fr = open(\"query_brand.txt\", 'w')"
   ]
  },
  {
   "cell_type": "code",
   "execution_count": 11,
   "id": "7c4f5866",
   "metadata": {},
   "outputs": [],
   "source": [
    "extCSV = pd.read_csv('external_prop.csv')\n",
    "extProp = extCSV['external_properties'].tolist()"
   ]
  },
  {
   "cell_type": "code",
   "execution_count": 12,
   "id": "a0ce9ddd",
   "metadata": {},
   "outputs": [
    {
     "name": "stderr",
     "output_type": "stream",
     "text": [
      "100%|██████████| 35798/35798 [00:02<00:00, 14354.02it/s]\n"
     ]
    }
   ],
   "source": [
    "for i in tqdm(range(len(data))):\n",
    "    s = data[i]['s']\n",
    "    p = data[i]['p']\n",
    "    o = data[i]['o']\n",
    "    propRaw = p.split('/')\n",
    "    prop = propRaw[-1]\n",
    "    if prop in extProp:\n",
    "        continue\n",
    "    if 'http://www.wikidata.org/entity/' not in o:\n",
    "        o = \"\\\"\\\"@en .\"\n",
    "        triple = '<'+ s +'> <' + p + '> ' + o\n",
    "        f.write(triple + \"\\n\")\n",
    "        fr.write(triple + \"\\n\")\n",
    "        continue\n",
    "    triple = '<'+ s +'> <' + p + '> <' + o + '> .'\n",
    "    f.write(triple + \"\\n\")\n",
    "    fr.write(triple + \"\\n\")"
   ]
  },
  {
   "cell_type": "code",
   "execution_count": null,
   "id": "f39c1031",
   "metadata": {},
   "outputs": [],
   "source": []
  },
  {
   "cell_type": "code",
   "execution_count": null,
   "id": "b82bbda3-9a9b-4c91-a7ed-07da25849eb4",
   "metadata": {},
   "outputs": [],
   "source": []
  }
 ],
 "metadata": {
  "kernelspec": {
   "display_name": "Python 3",
   "language": "python",
   "name": "python3"
  },
  "language_info": {
   "codemirror_mode": {
    "name": "ipython",
    "version": 3
   },
   "file_extension": ".py",
   "mimetype": "text/x-python",
   "name": "python",
   "nbconvert_exporter": "python",
   "pygments_lexer": "ipython3",
   "version": "3.8.2"
  }
 },
 "nbformat": 4,
 "nbformat_minor": 5
}
