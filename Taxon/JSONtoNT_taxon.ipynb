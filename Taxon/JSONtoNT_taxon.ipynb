{
 "metadata": {
  "language_info": {
   "codemirror_mode": {
    "name": "ipython",
    "version": 3
   },
   "file_extension": ".py",
   "mimetype": "text/x-python",
   "name": "python",
   "nbconvert_exporter": "python",
   "pygments_lexer": "ipython3",
   "version": "3.8.6"
  },
  "orig_nbformat": 2,
  "kernelspec": {
   "name": "python386jvsc74a57bd0fc6802b1fcf46146d7ed7e190356bd3c819bc467d846421f444fa1dde5bae9bf",
   "display_name": "Python 3.8.6 64-bit ('menv': venv)"
  }
 },
 "nbformat": 4,
 "nbformat_minor": 2,
 "cells": [
  {
   "cell_type": "code",
   "execution_count": 1,
   "metadata": {},
   "outputs": [],
   "source": [
    "import json\n",
    "from rdflib import Graph, URIRef\n",
    "from csv import reader\n",
    "from tqdm import tqdm\n",
    "import pandas as pd\n",
    "import chardet"
   ]
  },
  {
   "cell_type": "code",
   "execution_count": 2,
   "metadata": {},
   "outputs": [
    {
     "output_type": "execute_result",
     "data": {
      "text/plain": [
       "{'encoding': 'ascii', 'confidence': 1.0, 'language': ''}"
      ]
     },
     "metadata": {},
     "execution_count": 2
    }
   ],
   "source": [
    "with open(r'query_taxon.json','rb') as rawdata:\n",
    "    result = chardet.detect(rawdata.read(1000000))\n",
    "result"
   ]
  },
  {
   "cell_type": "code",
   "execution_count": 3,
   "metadata": {},
   "outputs": [
    {
     "output_type": "execute_result",
     "data": {
      "text/plain": [
       "{'s': 'http://www.wikidata.org/entity/Q140',\n",
       " 'p': 'http://www.wikidata.org/prop/direct/P31',\n",
       " 'o': 'http://www.wikidata.org/entity/Q16521'}"
      ]
     },
     "metadata": {},
     "execution_count": 3
    }
   ],
   "source": [
    "f = open(r'query_taxon.json',encoding='utf8')\n",
    "data = json.load(f)\n",
    "\n",
    "data[0]"
   ]
  },
  {
   "cell_type": "code",
   "execution_count": 4,
   "metadata": {},
   "outputs": [
    {
     "output_type": "execute_result",
     "data": {
      "text/plain": [
       "'P31'"
      ]
     },
     "metadata": {},
     "execution_count": 4
    }
   ],
   "source": [
    "data[0]['p'].split('/')[-1]"
   ]
  },
  {
   "cell_type": "code",
   "execution_count": 5,
   "metadata": {},
   "outputs": [
    {
     "output_type": "execute_result",
     "data": {
      "text/plain": [
       "'http://www.wikidata.org/entity/Q16521'"
      ]
     },
     "metadata": {},
     "execution_count": 5
    }
   ],
   "source": [
    "data[0]['o']"
   ]
  },
  {
   "cell_type": "code",
   "execution_count": 6,
   "metadata": {},
   "outputs": [
    {
     "output_type": "execute_result",
     "data": {
      "text/plain": [
       "'<http://www.wikidata.org/entity/Q140> <http://www.wikidata.org/prop/direct/P31> <http://www.wikidata.org/entity/Q16521>'"
      ]
     },
     "metadata": {},
     "execution_count": 6
    }
   ],
   "source": [
    "'<'+data[0]['s']+'> <' + data[0]['p'] + '> <' + data[0]['o'] + '>'"
   ]
  },
  {
   "cell_type": "code",
   "execution_count": 7,
   "metadata": {},
   "outputs": [
    {
     "output_type": "stream",
     "name": "stdout",
     "text": [
      "http://www.wikidata.org/entity/Q140\nhttp://www.wikidata.org/prop/direct/P31\nhttp://www.wikidata.org/entity/Q16521\n"
     ]
    }
   ],
   "source": [
    "for i, j in data[0].items():\n",
    "    print(j)"
   ]
  },
  {
   "cell_type": "code",
   "execution_count": 8,
   "metadata": {},
   "outputs": [],
   "source": [
    "f = open(\"query_taxon.nt\", \"w\")\n",
    "fr = open(\"query_taxon.txt\", 'w')"
   ]
  },
  {
   "cell_type": "code",
   "execution_count": 9,
   "metadata": {},
   "outputs": [],
   "source": [
    "extCSV = pd.read_csv('external_prop.csv')\n",
    "extProp = extCSV['external_properties'].tolist()"
   ]
  },
  {
   "cell_type": "code",
   "execution_count": 10,
   "metadata": {},
   "outputs": [
    {
     "output_type": "stream",
     "name": "stderr",
     "text": [
      "100%|██████████| 1000/1000 [00:00<00:00, 14285.68it/s]\n"
     ]
    }
   ],
   "source": [
    "for i in tqdm(range(len(data))):\n",
    "    s = data[i]['s']\n",
    "    p = data[i]['p']\n",
    "    o = data[i]['o']\n",
    "    propRaw = p.split('/')\n",
    "    prop = propRaw[-1]\n",
    "    if prop in extProp:\n",
    "        continue\n",
    "    if 'http://www.wikidata.org/entity/' not in o:\n",
    "        o = \"\\\"\\\"@en .\"\n",
    "        triple = '<'+ s +'> <' + p + '> ' + o\n",
    "        f.write(triple + \"\\n\")\n",
    "        fr.write(triple + \"\\n\")\n",
    "        continue\n",
    "    triple = '<'+ s +'> <' + p + '> <' + o + '> .'\n",
    "    f.write(triple + \"\\n\")\n",
    "    fr.write(triple + \"\\n\")"
   ]
  }
 ]
}