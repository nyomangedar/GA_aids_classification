{
 "cells": [
  {
   "cell_type": "code",
   "execution_count": 1,
   "metadata": {},
   "outputs": [],
   "source": [
    "import json\n",
    "from rdflib import Graph, URIRef\n",
    "from csv import reader\n",
    "from tqdm import tqdm\n",
    "import pandas as pd"
   ]
  },
  {
   "cell_type": "code",
   "execution_count": 2,
   "metadata": {},
   "outputs": [
    {
     "data": {
      "text/plain": [
       "{'encoding': 'ascii', 'confidence': 1.0, 'language': ''}"
      ]
     },
     "execution_count": 2,
     "metadata": {},
     "output_type": "execute_result"
    }
   ],
   "source": [
    "import chardet\n",
    "with open(r'D:\\UniversityStuff\\FourthTerm\\AIDS\\GA\\City\\query_city.json', 'rb') as rawdata:\n",
    "    result = chardet.detect(rawdata.read(1000000))\n",
    "result"
   ]
  },
  {
   "cell_type": "code",
   "execution_count": 3,
   "metadata": {},
   "outputs": [],
   "source": [
    "f = open(r'D:\\UniversityStuff\\FourthTerm\\AIDS\\GA\\City\\query_city.json', encoding='utf8')"
   ]
  },
  {
   "cell_type": "code",
   "execution_count": 4,
   "metadata": {},
   "outputs": [],
   "source": [
    "data = json.load(f)"
   ]
  },
  {
   "cell_type": "code",
   "execution_count": 5,
   "metadata": {},
   "outputs": [
    {
     "data": {
      "text/plain": [
       "{'s': 'http://www.wikidata.org/entity/Q1891',\n",
       " 'p': 'http://www.wikidata.org/prop/direct/P6',\n",
       " 'o': 'http://www.wikidata.org/entity/Q4014539'}"
      ]
     },
     "execution_count": 5,
     "metadata": {},
     "output_type": "execute_result"
    }
   ],
   "source": [
    "data[0]"
   ]
  },
  {
   "cell_type": "code",
   "execution_count": 6,
   "metadata": {},
   "outputs": [
    {
     "data": {
      "text/plain": [
       "'P6'"
      ]
     },
     "execution_count": 6,
     "metadata": {},
     "output_type": "execute_result"
    }
   ],
   "source": [
    "data[0]['p'].split('/')[-1]"
   ]
  },
  {
   "cell_type": "code",
   "execution_count": 7,
   "metadata": {},
   "outputs": [
    {
     "ename": "TypeError",
     "evalue": "list indices must be integers or slices, not str",
     "output_type": "error",
     "traceback": [
      "\u001b[1;31m---------------------------------------------------------------------------\u001b[0m",
      "\u001b[1;31mTypeError\u001b[0m                                 Traceback (most recent call last)",
      "\u001b[1;32m<ipython-input-7-abc0cc26479e>\u001b[0m in \u001b[0;36m<module>\u001b[1;34m\u001b[0m\n\u001b[1;32m----> 1\u001b[1;33m \u001b[0mdata\u001b[0m\u001b[1;33m[\u001b[0m\u001b[1;34m'o'\u001b[0m\u001b[1;33m]\u001b[0m\u001b[1;33m\u001b[0m\u001b[1;33m\u001b[0m\u001b[0m\n\u001b[0m",
      "\u001b[1;31mTypeError\u001b[0m: list indices must be integers or slices, not str"
     ]
    }
   ],
   "source": [
    "data['o']"
   ]
  },
  {
   "cell_type": "code",
   "execution_count": 8,
   "metadata": {},
   "outputs": [
    {
     "data": {
      "text/plain": [
       "'http://www.wikidata.org/entity/Q4014539'"
      ]
     },
     "execution_count": 8,
     "metadata": {},
     "output_type": "execute_result"
    }
   ],
   "source": [
    "data[0]['o']"
   ]
  },
  {
   "cell_type": "code",
   "execution_count": 9,
   "metadata": {},
   "outputs": [
    {
     "data": {
      "text/plain": [
       "'<http://www.wikidata.org/entity/Q1891> <http://www.wikidata.org/prop/direct/P6> <http://www.wikidata.org/entity/Q4014539>'"
      ]
     },
     "execution_count": 9,
     "metadata": {},
     "output_type": "execute_result"
    }
   ],
   "source": [
    "'<'+data[0]['s']+'> <' + data[0]['p'] + '> <' + data[0]['o'] + '>'"
   ]
  },
  {
   "cell_type": "code",
   "execution_count": 10,
   "metadata": {},
   "outputs": [
    {
     "name": "stdout",
     "output_type": "stream",
     "text": [
      "http://www.wikidata.org/entity/Q1891\n",
      "http://www.wikidata.org/prop/direct/P6\n",
      "http://www.wikidata.org/entity/Q4014539\n"
     ]
    }
   ],
   "source": [
    "for i, j in data[0].items():\n",
    "    print(j)"
   ]
  },
  {
   "cell_type": "code",
   "execution_count": 11,
   "metadata": {},
   "outputs": [],
   "source": [
    "f = open(r'D:\\UniversityStuff\\FourthTerm\\AIDS\\GA\\City\\query_city.nt','w')\n",
    "fr = open(r'D:\\UniversityStuff\\FourthTerm\\AIDS\\GA\\City\\query_city.txt','w')"
   ]
  },
  {
   "cell_type": "code",
   "execution_count": 14,
   "metadata": {},
   "outputs": [
    {
     "name": "stderr",
     "output_type": "stream",
     "text": [
      "100%|██████████| 330227/330227 [00:26<00:00, 12678.94it/s]\n"
     ]
    }
   ],
   "source": [
    "for i in tqdm(range(len(data))):\n",
    "    s = data[i]['s']\n",
    "    p = data[i]['p']\n",
    "    o = data[i]['o']\n",
    "    propRaw = p.split('/')\n",
    "    prop = propRaw[-1]\n",
    "    if prop in extProp:\n",
    "        continue\n",
    "    if 'http://www.wikidata.org/entity/' not in o:\n",
    "        o = \"\\\"\\\"@en .\"\n",
    "        triple = '<'+ s +'> <' + p + '> ' + o\n",
    "        f.write(triple + \"\\n\")\n",
    "        fr.write(triple + \"\\n\")\n",
    "        continue\n",
    "    triple = '<'+ s +'> <' + p + '> <' + o + '> .'\n",
    "    f.write(triple + \"\\n\")\n",
    "    fr.write(triple + \"\\n\")"
   ]
  },
  {
   "cell_type": "code",
   "execution_count": 13,
   "metadata": {},
   "outputs": [],
   "source": [
    "extCSV = pd.read_csv(r'D:\\UniversityStuff\\FourthTerm\\AIDS\\GA\\City\\external_prop.csv')\n",
    "extProp = extCSV['external_properties'].tolist()"
   ]
  },
  {
   "cell_type": "code",
   "execution_count": null,
   "metadata": {},
   "outputs": [],
   "source": []
  }
 ],
 "metadata": {
  "kernelspec": {
   "display_name": "Python 3",
   "language": "python",
   "name": "python3"
  },
  "language_info": {
   "codemirror_mode": {
    "name": "ipython",
    "version": 3
   },
   "file_extension": ".py",
   "mimetype": "text/x-python",
   "name": "python",
   "nbconvert_exporter": "python",
   "pygments_lexer": "ipython3",
   "version": "3.8.5"
  }
 },
 "nbformat": 4,
 "nbformat_minor": 4
}
